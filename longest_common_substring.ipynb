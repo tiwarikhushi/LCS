{
  "nbformat": 4,
  "nbformat_minor": 0,
  "metadata": {
    "colab": {
      "provenance": []
    },
    "kernelspec": {
      "name": "python3",
      "display_name": "Python 3"
    },
    "language_info": {
      "name": "python"
    }
  },
  "cells": [
    {
      "cell_type": "code",
      "execution_count": 7,
      "metadata": {
        "colab": {
          "base_uri": "https://localhost:8080/"
        },
        "id": "LP2PjNDAPev8",
        "outputId": "c159c6a9-27d7-4929-9c16-55b39d835d9d"
      },
      "outputs": [
        {
          "output_type": "stream",
          "name": "stdout",
          "text": [
            "abc\n"
          ]
        }
      ],
      "source": [
        "def longestCommonSubstring(S,T):\n",
        "  m = len(S)\n",
        "  n = len(T)\n",
        "  counter = [[0] * (n+1) for x in range(m+1)]\n",
        "  longest = 0\n",
        "  lcs_set = set()\n",
        "  for i in range(m):\n",
        "    for j in range(m):\n",
        "      if S[i] == T[j]:\n",
        "        c = counter[i][j] + 1\n",
        "        counter[i+1][j+1] = c\n",
        "        if c > longest:\n",
        "          lcs_set = set()\n",
        "          longest = c\n",
        "          lcs_set.add(S[i-c+1:i+1])\n",
        "        elif c == longest:\n",
        "          lcs_set.add(S[i-c+1:i+1])\n",
        "  return lcs_set\n",
        "\n",
        "ret = longestCommonSubstring('ababc' , 'abcdaba')\n",
        "for s in ret:\n",
        "  print (s)"
      ]
    }
  ]
}